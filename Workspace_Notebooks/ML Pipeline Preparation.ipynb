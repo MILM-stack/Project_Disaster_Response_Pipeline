{
 "cells": [
  {
   "cell_type": "markdown",
   "metadata": {},
   "source": [
    "# ML Pipeline Preparation\n",
    "Follow the instructions below to help you create your ML pipeline.\n",
    "### 1. Import libraries and load data from database.\n",
    "- Import Python libraries\n",
    "- Load dataset from database with [`read_sql_table`](https://pandas.pydata.org/pandas-docs/stable/generated/pandas.read_sql_table.html)\n",
    "- Define feature and target variables X and Y"
   ]
  },
  {
   "cell_type": "code",
   "execution_count": 1,
   "metadata": {},
   "outputs": [
    {
     "name": "stdout",
     "output_type": "stream",
     "text": [
      "[nltk_data] Downloading package punkt to /root/nltk_data...\n",
      "[nltk_data]   Unzipping tokenizers/punkt.zip.\n",
      "[nltk_data] Downloading package wordnet to /root/nltk_data...\n",
      "[nltk_data] Downloading package averaged_perceptron_tagger to\n",
      "[nltk_data]     /root/nltk_data...\n",
      "[nltk_data]   Unzipping taggers/averaged_perceptron_tagger.zip.\n",
      "[nltk_data] Downloading package stopwords to /root/nltk_data...\n",
      "[nltk_data]   Unzipping corpora/stopwords.zip.\n"
     ]
    }
   ],
   "source": [
    "# import standard libraries\n",
    "import re \n",
    "import pickle \n",
    "\n",
    "# import libraries\n",
    "import nltk\n",
    "import numpy as np \n",
    "import pandas as pd \n",
    "from sqlalchemy import create_engine\n",
    "\n",
    "\n",
    "#nltk downloads \n",
    "nltk.download(['punkt', 'wordnet', 'averaged_perceptron_tagger', 'stopwords'])\n",
    "\n",
    "#nltk modules\n",
    "from nltk.tokenize import word_tokenize\n",
    "from nltk.stem import WordNetLemmatizer\n",
    "from nltk.corpus import stopwords\n",
    "\n",
    "# scikit-learn \n",
    "from sklearn.base import BaseEstimator, TransformerMixin\n",
    "from sklearn.ensemble import RandomForestClassifier, AdaBoostClassifier\n",
    "from sklearn.feature_extraction.text import CountVectorizer, TfidfTransformer\n",
    "from sklearn.metrics import classification_report\n",
    "from sklearn.model_selection import GridSearchCV, train_test_split\n",
    "from sklearn.multioutput import MultiOutputClassifier\n",
    "from sklearn.pipeline import FeatureUnion, Pipeline"
   ]
  },
  {
   "cell_type": "code",
   "execution_count": 2,
   "metadata": {},
   "outputs": [],
   "source": [
    "engine = create_engine('sqlite:///DisasterResponseProject.db')\n",
    "df = pd.read_sql(\"SELECT * FROM Message\", engine)"
   ]
  },
  {
   "cell_type": "code",
   "execution_count": 3,
   "metadata": {},
   "outputs": [],
   "source": [
    "# Create a function to load data from database\n",
    "def load_data(): \n",
    "    engine = create_engine('sqlite:///DisasterResponseProject.db')\n",
    "    df = pd.read_sql(\"SELECT * FROM Message\", engine)\n",
    "    \n",
    "    #load and view the text and category variables\n",
    "    X = df.message.values\n",
    "    y = df.iloc[:, 4:].values\n",
    "    \n",
    "    #get categories/column names\n",
    "    categories = df.columns[4:].tolist()\n",
    "    \n",
    "    return X, y, categories"
   ]
  },
  {
   "cell_type": "code",
   "execution_count": 4,
   "metadata": {},
   "outputs": [
    {
     "data": {
      "text/plain": [
       "((26216,), (26216, 35))"
      ]
     },
     "execution_count": 4,
     "metadata": {},
     "output_type": "execute_result"
    }
   ],
   "source": [
    "X, y, categories= load_data()\n",
    "X.shape, y.shape"
   ]
  },
  {
   "cell_type": "markdown",
   "metadata": {},
   "source": [
    "### 2. Write a tokenization function to process your text data"
   ]
  },
  {
   "cell_type": "code",
   "execution_count": 5,
   "metadata": {},
   "outputs": [],
   "source": [
    "#Create a function that normalizes, tokenizes and lemmatizes the messages\n",
    "def tokenize(text):\n",
    "    #remove punctuation such as Twitter(#) and tags(@) and convert to lowercase\n",
    "    text = re.sub(r\"[^a-zA-Z0-9]\", \" \", text).lower()\n",
    "    \n",
    "    #Split text into words using NLTK\n",
    "    tokens = word_tokenize(text) \n",
    "    \n",
    "    #Initialize lemmatizer\n",
    "    lemmatizer = WordNetLemmatizer()\n",
    "    \n",
    "    #Remove stopwords and lemmatize\n",
    "    clean_tokens = [\n",
    "        lemmatizer.lemmatize(w) for w in tokens if w not in stopwords.words(\"english\")\n",
    "    ]\n",
    "    \n",
    "    return clean_tokens"
   ]
  },
  {
   "cell_type": "code",
   "execution_count": 6,
   "metadata": {},
   "outputs": [
    {
     "name": "stdout",
     "output_type": "stream",
     "text": [
      "Original message: Weather update - a cold front from Cuba that could pass over Haiti\n",
      "Tokenized: ['weather', 'update', 'cold', 'front', 'cuba', 'could', 'pas', 'haiti'] \n",
      "\n",
      "Original message: Is the Hurricane over or is it not over\n",
      "Tokenized: ['hurricane'] \n",
      "\n",
      "Original message: Looking for someone but no name\n",
      "Tokenized: ['looking', 'someone', 'name'] \n",
      "\n",
      "Original message: UN reports Leogane 80-90 destroyed. Only Hospital St. Croix functioning. Needs supplies desperately.\n",
      "Tokenized: ['un', 'report', 'leogane', '80', '90', 'destroyed', 'hospital', 'st', 'croix', 'functioning', 'need', 'supply', 'desperately'] \n",
      "\n",
      "Original message: says: west side of Haiti, rest of the country today and tonight\n",
      "Tokenized: ['say', 'west', 'side', 'haiti', 'rest', 'country', 'today', 'tonight'] \n",
      "\n"
     ]
    }
   ],
   "source": [
    "#test out function\n",
    "for message in X[:5]:\n",
    "    tokens = tokenize(message)\n",
    "    print(\"Original message:\", message)\n",
    "    print(\"Tokenized:\", tokens, \"\\n\")"
   ]
  },
  {
   "cell_type": "markdown",
   "metadata": {},
   "source": [
    "### 3. Build a machine learning pipeline\n",
    "This machine pipeline should take in the `message` column as input and output classification results on the other 36 categories in the dataset. You may find the [MultiOutputClassifier](http://scikit-learn.org/stable/modules/generated/sklearn.multioutput.MultiOutputClassifier.html) helpful for predicting multiple target variables."
   ]
  },
  {
   "cell_type": "code",
   "execution_count": 7,
   "metadata": {},
   "outputs": [],
   "source": [
    "def ml_pipeline(): \n",
    "    pipeline = Pipeline([\n",
    "        ('vect', CountVectorizer(tokenizer=tokenize)), \n",
    "        ('tfidf', TfidfTransformer()), \n",
    "        ('clf', MultiOutputClassifier(RandomForestClassifier()))\n",
    "    ])\n",
    "    return pipeline"
   ]
  },
  {
   "cell_type": "markdown",
   "metadata": {},
   "source": [
    "### 4. Train pipeline\n",
    "- Split data into train and test sets\n",
    "- Train pipeline"
   ]
  },
  {
   "cell_type": "code",
   "execution_count": 8,
   "metadata": {},
   "outputs": [],
   "source": [
    "#Split tada into train and test sets\n",
    "X_train, X_test, y_train, y_test = train_test_split(X, y, test_size=0.3, random_state=42)"
   ]
  },
  {
   "cell_type": "code",
   "execution_count": 9,
   "metadata": {},
   "outputs": [],
   "source": [
    "#train classifier\n",
    "pipeline = ml_pipeline()\n",
    "pipeline.fit(X_train, y_train)\n",
    "\n",
    "#predict on test data (transofrm test data)\n",
    "y_pred = pipeline.predict(X_test)"
   ]
  },
  {
   "cell_type": "markdown",
   "metadata": {},
   "source": [
    "### 5. Test your model\n",
    "Report the f1 score, precision and recall for each output category of the dataset. You can do this by iterating through the columns and calling sklearn's `classification_report` on each."
   ]
  },
  {
   "cell_type": "code",
   "execution_count": 10,
   "metadata": {},
   "outputs": [
    {
     "name": "stdout",
     "output_type": "stream",
     "text": [
      "                        precision    recall  f1-score   support\n",
      "\n",
      "               related       0.84      0.92      0.88      5992\n",
      "               request       0.78      0.43      0.55      1332\n",
      "                 offer       0.00      0.00      0.00        36\n",
      "           aid_related       0.74      0.62      0.67      3219\n",
      "          medical_help       0.57      0.09      0.16       638\n",
      "      medical_products       0.79      0.09      0.16       418\n",
      "     search_and_rescue       0.60      0.08      0.14       192\n",
      "              security       0.00      0.00      0.00       144\n",
      "              military       0.44      0.13      0.21       245\n",
      "                 water       0.85      0.33      0.47       500\n",
      "                  food       0.81      0.35      0.49       878\n",
      "               shelter       0.80      0.30      0.44       705\n",
      "              clothing       0.80      0.10      0.18       115\n",
      "                 money       0.70      0.04      0.08       170\n",
      "        missing_people       0.00      0.00      0.00        92\n",
      "              refugees       0.50      0.03      0.05       260\n",
      "                 death       0.82      0.22      0.34       366\n",
      "             other_aid       0.52      0.06      0.12      1033\n",
      "infrastructure_related       0.22      0.00      0.01       505\n",
      "             transport       0.54      0.06      0.10       362\n",
      "             buildings       0.69      0.09      0.16       392\n",
      "           electricity       0.80      0.05      0.09       168\n",
      "                 tools       0.00      0.00      0.00        48\n",
      "             hospitals       0.00      0.00      0.00        78\n",
      "                 shops       0.00      0.00      0.00        28\n",
      "           aid_centers       0.00      0.00      0.00       103\n",
      "  other_infrastructure       0.20      0.00      0.01       341\n",
      "       weather_related       0.82      0.61      0.70      2163\n",
      "                floods       0.84      0.36      0.51       623\n",
      "                 storm       0.74      0.42      0.53       738\n",
      "                  fire       0.50      0.04      0.07        83\n",
      "            earthquake       0.89      0.74      0.80       702\n",
      "                  cold       0.79      0.11      0.19       171\n",
      "         other_weather       0.56      0.02      0.05       415\n",
      "         direct_report       0.70      0.32      0.44      1544\n",
      "\n",
      "           avg / total       0.72      0.49      0.54     24799\n",
      "\n"
     ]
    },
    {
     "name": "stderr",
     "output_type": "stream",
     "text": [
      "/opt/conda/lib/python3.6/site-packages/sklearn/metrics/classification.py:1135: UndefinedMetricWarning: Precision and F-score are ill-defined and being set to 0.0 in labels with no predicted samples.\n",
      "  'precision', 'predicted', average, warn_for)\n"
     ]
    }
   ],
   "source": [
    "print(classification_report(y_test, y_pred, target_names=categories))"
   ]
  },
  {
   "cell_type": "markdown",
   "metadata": {},
   "source": [
    "Based on the results of our first model, we can see that: \n",
    "- there is a 0.73 accuracy in positive predictions\n",
    "- the recall is 0.48, which means that the model is capturing half of the actual positive cases. \n",
    "- the F1 score is 0.54, which shows that there is potential for improvement. "
   ]
  },
  {
   "cell_type": "markdown",
   "metadata": {},
   "source": [
    "### 6. Improve your model\n",
    "Use grid search to find better parameters. "
   ]
  },
  {
   "cell_type": "code",
   "execution_count": 11,
   "metadata": {},
   "outputs": [
    {
     "data": {
      "text/plain": [
       "{'memory': None,\n",
       " 'steps': [('vect',\n",
       "   CountVectorizer(analyzer='word', binary=False, decode_error='strict',\n",
       "           dtype=<class 'numpy.int64'>, encoding='utf-8', input='content',\n",
       "           lowercase=True, max_df=1.0, max_features=None, min_df=1,\n",
       "           ngram_range=(1, 1), preprocessor=None, stop_words=None,\n",
       "           strip_accents=None, token_pattern='(?u)\\\\b\\\\w\\\\w+\\\\b',\n",
       "           tokenizer=<function tokenize at 0x7e0b6f0c5a60>, vocabulary=None)),\n",
       "  ('tfidf',\n",
       "   TfidfTransformer(norm='l2', smooth_idf=True, sublinear_tf=False, use_idf=True)),\n",
       "  ('clf',\n",
       "   MultiOutputClassifier(estimator=RandomForestClassifier(bootstrap=True, class_weight=None, criterion='gini',\n",
       "               max_depth=None, max_features='auto', max_leaf_nodes=None,\n",
       "               min_impurity_decrease=0.0, min_impurity_split=None,\n",
       "               min_samples_leaf=1, min_samples_split=2,\n",
       "               min_weight_fraction_leaf=0.0, n_estimators=10, n_jobs=1,\n",
       "               oob_score=False, random_state=None, verbose=0,\n",
       "               warm_start=False),\n",
       "              n_jobs=1))],\n",
       " 'vect': CountVectorizer(analyzer='word', binary=False, decode_error='strict',\n",
       "         dtype=<class 'numpy.int64'>, encoding='utf-8', input='content',\n",
       "         lowercase=True, max_df=1.0, max_features=None, min_df=1,\n",
       "         ngram_range=(1, 1), preprocessor=None, stop_words=None,\n",
       "         strip_accents=None, token_pattern='(?u)\\\\b\\\\w\\\\w+\\\\b',\n",
       "         tokenizer=<function tokenize at 0x7e0b6f0c5a60>, vocabulary=None),\n",
       " 'tfidf': TfidfTransformer(norm='l2', smooth_idf=True, sublinear_tf=False, use_idf=True),\n",
       " 'clf': MultiOutputClassifier(estimator=RandomForestClassifier(bootstrap=True, class_weight=None, criterion='gini',\n",
       "             max_depth=None, max_features='auto', max_leaf_nodes=None,\n",
       "             min_impurity_decrease=0.0, min_impurity_split=None,\n",
       "             min_samples_leaf=1, min_samples_split=2,\n",
       "             min_weight_fraction_leaf=0.0, n_estimators=10, n_jobs=1,\n",
       "             oob_score=False, random_state=None, verbose=0,\n",
       "             warm_start=False),\n",
       "            n_jobs=1),\n",
       " 'vect__analyzer': 'word',\n",
       " 'vect__binary': False,\n",
       " 'vect__decode_error': 'strict',\n",
       " 'vect__dtype': numpy.int64,\n",
       " 'vect__encoding': 'utf-8',\n",
       " 'vect__input': 'content',\n",
       " 'vect__lowercase': True,\n",
       " 'vect__max_df': 1.0,\n",
       " 'vect__max_features': None,\n",
       " 'vect__min_df': 1,\n",
       " 'vect__ngram_range': (1, 1),\n",
       " 'vect__preprocessor': None,\n",
       " 'vect__stop_words': None,\n",
       " 'vect__strip_accents': None,\n",
       " 'vect__token_pattern': '(?u)\\\\b\\\\w\\\\w+\\\\b',\n",
       " 'vect__tokenizer': <function __main__.tokenize(text)>,\n",
       " 'vect__vocabulary': None,\n",
       " 'tfidf__norm': 'l2',\n",
       " 'tfidf__smooth_idf': True,\n",
       " 'tfidf__sublinear_tf': False,\n",
       " 'tfidf__use_idf': True,\n",
       " 'clf__estimator__bootstrap': True,\n",
       " 'clf__estimator__class_weight': None,\n",
       " 'clf__estimator__criterion': 'gini',\n",
       " 'clf__estimator__max_depth': None,\n",
       " 'clf__estimator__max_features': 'auto',\n",
       " 'clf__estimator__max_leaf_nodes': None,\n",
       " 'clf__estimator__min_impurity_decrease': 0.0,\n",
       " 'clf__estimator__min_impurity_split': None,\n",
       " 'clf__estimator__min_samples_leaf': 1,\n",
       " 'clf__estimator__min_samples_split': 2,\n",
       " 'clf__estimator__min_weight_fraction_leaf': 0.0,\n",
       " 'clf__estimator__n_estimators': 10,\n",
       " 'clf__estimator__n_jobs': 1,\n",
       " 'clf__estimator__oob_score': False,\n",
       " 'clf__estimator__random_state': None,\n",
       " 'clf__estimator__verbose': 0,\n",
       " 'clf__estimator__warm_start': False,\n",
       " 'clf__estimator': RandomForestClassifier(bootstrap=True, class_weight=None, criterion='gini',\n",
       "             max_depth=None, max_features='auto', max_leaf_nodes=None,\n",
       "             min_impurity_decrease=0.0, min_impurity_split=None,\n",
       "             min_samples_leaf=1, min_samples_split=2,\n",
       "             min_weight_fraction_leaf=0.0, n_estimators=10, n_jobs=1,\n",
       "             oob_score=False, random_state=None, verbose=0,\n",
       "             warm_start=False),\n",
       " 'clf__n_jobs': 1}"
      ]
     },
     "execution_count": 11,
     "metadata": {},
     "output_type": "execute_result"
    }
   ],
   "source": [
    "pipeline.get_params()"
   ]
  },
  {
   "cell_type": "code",
   "execution_count": 12,
   "metadata": {},
   "outputs": [],
   "source": [
    "def ml_cv_pipeline(): \n",
    "    pipeline = Pipeline([\n",
    "        ('vect', CountVectorizer(tokenizer=tokenize, ngram_range=(1, 1))), \n",
    "        ('tfidf', TfidfTransformer()), \n",
    "        ('clf', MultiOutputClassifier(RandomForestClassifier(n_jobs=-1)))\n",
    "    ])\n",
    "    \n",
    "    # Specify the parameters for grid search \n",
    "    parameters = {\n",
    "        # Try different n-gram ranges (1 word)\n",
    "        'vect__ngram_range': [(1, 1)],\n",
    "        # Try different number of trees in the random forest \n",
    "        'clf__estimator__n_estimators': [5, 10]\n",
    "    }\n",
    "    \n",
    "    # Create a grid search object\n",
    "    cv = GridSearchCV(pipeline, param_grid=parameters, cv=2, n_jobs=-1)\n",
    "    return cv"
   ]
  },
  {
   "cell_type": "markdown",
   "metadata": {},
   "source": [
    "### 7. Test your model\n",
    "Show the accuracy, precision, and recall of the tuned model.  \n",
    "\n",
    "Since this project focuses on code quality, process, and  pipelines, there is no minimum performance metric needed to pass. However, make sure to fine tune your models for accuracy, precision and recall to make your project stand out - especially for your portfolio!"
   ]
  },
  {
   "cell_type": "code",
   "execution_count": 13,
   "metadata": {},
   "outputs": [
    {
     "name": "stdout",
     "output_type": "stream",
     "text": [
      "Best parameters found: {'clf__estimator__n_estimators': 10, 'vect__ngram_range': (1, 1)}\n"
     ]
    }
   ],
   "source": [
    "#train classifier\n",
    "ml_cv = ml_cv_pipeline()\n",
    "ml_cv.fit(X_train, y_train)\n",
    "\n",
    "#Get the best parameters\n",
    "print('Best parameters found:', ml_cv.best_params_)\n",
    "\n",
    "#predict on test data (transform test data)\n",
    "y_pred = ml_cv.predict(X_test)"
   ]
  },
  {
   "cell_type": "code",
   "execution_count": 14,
   "metadata": {},
   "outputs": [
    {
     "name": "stdout",
     "output_type": "stream",
     "text": [
      "                        precision    recall  f1-score   support\n",
      "\n",
      "               related       0.84      0.92      0.88      5992\n",
      "               request       0.79      0.42      0.55      1332\n",
      "                 offer       0.00      0.00      0.00        36\n",
      "           aid_related       0.74      0.62      0.67      3219\n",
      "          medical_help       0.61      0.10      0.17       638\n",
      "      medical_products       0.68      0.07      0.12       418\n",
      "     search_and_rescue       0.60      0.06      0.11       192\n",
      "              security       0.00      0.00      0.00       144\n",
      "              military       0.53      0.09      0.16       245\n",
      "                 water       0.83      0.22      0.34       500\n",
      "                  food       0.86      0.41      0.55       878\n",
      "               shelter       0.79      0.31      0.44       705\n",
      "              clothing       0.75      0.10      0.18       115\n",
      "                 money       0.86      0.07      0.13       170\n",
      "        missing_people       1.00      0.02      0.04        92\n",
      "              refugees       0.48      0.05      0.09       260\n",
      "                 death       0.83      0.13      0.23       366\n",
      "             other_aid       0.43      0.05      0.09      1033\n",
      "infrastructure_related       0.36      0.01      0.02       505\n",
      "             transport       0.70      0.11      0.19       362\n",
      "             buildings       0.71      0.08      0.15       392\n",
      "           electricity       0.75      0.05      0.10       168\n",
      "                 tools       0.00      0.00      0.00        48\n",
      "             hospitals       0.00      0.00      0.00        78\n",
      "                 shops       0.00      0.00      0.00        28\n",
      "           aid_centers       0.00      0.00      0.00       103\n",
      "  other_infrastructure       0.25      0.01      0.01       341\n",
      "       weather_related       0.84      0.63      0.72      2163\n",
      "                floods       0.86      0.42      0.56       623\n",
      "                 storm       0.74      0.45      0.56       738\n",
      "                  fire       1.00      0.01      0.02        83\n",
      "            earthquake       0.87      0.72      0.79       702\n",
      "                  cold       0.68      0.08      0.14       171\n",
      "         other_weather       0.43      0.02      0.04       415\n",
      "         direct_report       0.74      0.30      0.43      1544\n",
      "\n",
      "           avg / total       0.74      0.48      0.54     24799\n",
      "\n"
     ]
    },
    {
     "name": "stderr",
     "output_type": "stream",
     "text": [
      "/opt/conda/lib/python3.6/site-packages/sklearn/metrics/classification.py:1135: UndefinedMetricWarning: Precision and F-score are ill-defined and being set to 0.0 in labels with no predicted samples.\n",
      "  'precision', 'predicted', average, warn_for)\n"
     ]
    }
   ],
   "source": [
    "print(classification_report(y_test, y_pred, target_names=categories))"
   ]
  },
  {
   "cell_type": "markdown",
   "metadata": {},
   "source": [
    "When adding a GridSearchCV with parameters, we could see a slight improvement (1%) on recalls. However, due to this model being highly computationally extensive, we could not work using several parameters. So we can see further room for improvement. "
   ]
  },
  {
   "cell_type": "markdown",
   "metadata": {},
   "source": [
    "### 8. Try improving your model further. Here are a few ideas:\n",
    "* try other machine learning algorithms\n",
    "* add other features besides the TF-IDF"
   ]
  },
  {
   "cell_type": "code",
   "execution_count": 15,
   "metadata": {},
   "outputs": [],
   "source": [
    "def ml_fu_pipeline_2():\n",
    "    pipeline = Pipeline([\n",
    "        ('features', FeatureUnion([\n",
    "            ('text_pipelline', Pipeline([\n",
    "                ('vect', CountVectorizer(tokenizer=tokenize)), \n",
    "                ('tfidf', TfidfTransformer())\n",
    "            ])),\n",
    "        ])), \n",
    "        ('clf', MultiOutputClassifier(AdaBoostClassifier()))\n",
    "    ])\n",
    "    return pipeline"
   ]
  },
  {
   "cell_type": "code",
   "execution_count": 16,
   "metadata": {},
   "outputs": [],
   "source": [
    "#train classifier\n",
    "ml_fu = ml_fu_pipeline_2()\n",
    "ml_fu.fit(X_train, y_train)\n",
    "\n",
    "#predict on test data (transform test data)\n",
    "y_pred = ml_fu.predict(X_test)"
   ]
  },
  {
   "cell_type": "code",
   "execution_count": 17,
   "metadata": {},
   "outputs": [
    {
     "name": "stdout",
     "output_type": "stream",
     "text": [
      "                        precision    recall  f1-score   support\n",
      "\n",
      "               related       0.80      0.96      0.87      5992\n",
      "               request       0.75      0.49      0.60      1332\n",
      "                 offer       0.08      0.03      0.04        36\n",
      "           aid_related       0.75      0.60      0.67      3219\n",
      "          medical_help       0.60      0.27      0.37       638\n",
      "      medical_products       0.66      0.31      0.42       418\n",
      "     search_and_rescue       0.57      0.18      0.27       192\n",
      "              security       0.19      0.03      0.06       144\n",
      "              military       0.57      0.30      0.39       245\n",
      "                 water       0.75      0.64      0.69       500\n",
      "                  food       0.82      0.73      0.77       878\n",
      "               shelter       0.77      0.56      0.65       705\n",
      "              clothing       0.69      0.44      0.54       115\n",
      "                 money       0.45      0.28      0.35       170\n",
      "        missing_people       0.59      0.11      0.18        92\n",
      "              refugees       0.60      0.29      0.39       260\n",
      "                 death       0.75      0.39      0.52       366\n",
      "             other_aid       0.48      0.14      0.22      1033\n",
      "infrastructure_related       0.44      0.09      0.15       505\n",
      "             transport       0.68      0.20      0.31       362\n",
      "             buildings       0.72      0.36      0.48       392\n",
      "           electricity       0.58      0.25      0.35       168\n",
      "                 tools       0.06      0.02      0.03        48\n",
      "             hospitals       0.21      0.08      0.11        78\n",
      "                 shops       0.12      0.04      0.06        28\n",
      "           aid_centers       0.32      0.09      0.14       103\n",
      "  other_infrastructure       0.38      0.10      0.16       341\n",
      "       weather_related       0.85      0.66      0.75      2163\n",
      "                floods       0.85      0.57      0.68       623\n",
      "                 storm       0.75      0.47      0.58       738\n",
      "                  fire       0.53      0.25      0.34        83\n",
      "            earthquake       0.87      0.78      0.82       702\n",
      "                  cold       0.73      0.36      0.48       171\n",
      "         other_weather       0.41      0.15      0.22       415\n",
      "         direct_report       0.69      0.38      0.49      1544\n",
      "\n",
      "           avg / total       0.72      0.58      0.62     24799\n",
      "\n"
     ]
    }
   ],
   "source": [
    "# Print classification report\n",
    "print(classification_report(y_test, y_pred, target_names=categories))"
   ]
  },
  {
   "cell_type": "markdown",
   "metadata": {},
   "source": [
    "Adding some flexibility to our model with FeatureUnion and changing RandomForestClassifier() to AdaBoostClassifier() instead, to learn from our mistakes, allowed us some improvement. \n",
    "- Though the precision declined by 1%, the recall improved by 10% compared to the first model. \n",
    "- Therefore, our F1 score increased to 0.62. \n",
    "\n",
    "This means that we should keep this model. Further improvement could be also be built on this direction. "
   ]
  },
  {
   "cell_type": "markdown",
   "metadata": {},
   "source": [
    "### 9. Export your model as a pickle file"
   ]
  },
  {
   "cell_type": "markdown",
   "metadata": {},
   "source": [
    "In order to meet the rubric from this project, I will save the ml_cv model to a pickle file and continue working with this model throughout the project, as it includes GridSearchCV. "
   ]
  },
  {
   "cell_type": "code",
   "execution_count": 18,
   "metadata": {},
   "outputs": [
    {
     "name": "stdout",
     "output_type": "stream",
     "text": [
      "Model saved to pickle_model.pkl\n"
     ]
    }
   ],
   "source": [
    "# Save the model to a pickle file\n",
    "pickle_model = 'pickle_model.pkl'\n",
    "with open(pickle_model, 'wb') as file:\n",
    "    pickle.dump(ml_cv, file)\n",
    "\n",
    "print(f'Model saved to {pickle_model}')"
   ]
  },
  {
   "cell_type": "markdown",
   "metadata": {},
   "source": [
    "### 10. Use this notebook to complete `train_classifier.py`\n",
    "Use the template file attached in the Resources folder to write a script that runs the steps above to create a database and export a model based on a new dataset specified by the user."
   ]
  },
  {
   "cell_type": "code",
   "execution_count": null,
   "metadata": {},
   "outputs": [],
   "source": []
  }
 ],
 "metadata": {
  "kernelspec": {
   "display_name": "Python 3",
   "language": "python",
   "name": "python3"
  },
  "language_info": {
   "codemirror_mode": {
    "name": "ipython",
    "version": 3
   },
   "file_extension": ".py",
   "mimetype": "text/x-python",
   "name": "python",
   "nbconvert_exporter": "python",
   "pygments_lexer": "ipython3",
   "version": "3.6.3"
  }
 },
 "nbformat": 4,
 "nbformat_minor": 2
}
